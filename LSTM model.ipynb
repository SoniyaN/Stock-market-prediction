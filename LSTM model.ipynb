{
 "cells": [
  {
   "cell_type": "code",
   "execution_count": 1,
   "metadata": {},
   "outputs": [],
   "source": [
    "import warnings\n",
    "warnings.filterwarnings('ignore')\n",
    "import pandas as pd\n",
    "import numpy as np\n",
    "import matplotlib.pyplot as plt"
   ]
  },
  {
   "cell_type": "code",
   "execution_count": 22,
   "metadata": {},
   "outputs": [],
   "source": [
    "df = pd.read_csv('AMZN.csv',index_col=0,parse_dates=True)\n",
    "df=df.dropna()"
   ]
  },
  {
   "cell_type": "code",
   "execution_count": 23,
   "metadata": {},
   "outputs": [
    {
     "data": {
      "text/plain": [
       "882"
      ]
     },
     "execution_count": 23,
     "metadata": {},
     "output_type": "execute_result"
    }
   ],
   "source": [
    "#Create a new dataframe with only the 'Close column\n",
    "data = df.filter(['Close'])\n",
    "#Convert the dataframe to a numpy array\n",
    "dataset = data.values\n",
    "#Get the number of rows to train the model on\n",
    "training_data_len = int(np.ceil( len(dataset) * .7 ))\n",
    "\n",
    "training_data_len"
   ]
  },
  {
   "cell_type": "code",
   "execution_count": 24,
   "metadata": {},
   "outputs": [
    {
     "data": {
      "text/plain": [
       "array([[0.02635618],\n",
       "       [0.0290846 ],\n",
       "       [0.02986837],\n",
       "       ...,\n",
       "       [0.97097114],\n",
       "       [0.97120068],\n",
       "       [0.9449921 ]])"
      ]
     },
     "execution_count": 24,
     "metadata": {},
     "output_type": "execute_result"
    }
   ],
   "source": [
    "#Scale the data\n",
    "from sklearn.preprocessing import MinMaxScaler\n",
    "\n",
    "scaler = MinMaxScaler(feature_range=(0,1))\n",
    "scaled_data = scaler.fit_transform(dataset)\n",
    "\n",
    "scaled_data"
   ]
  },
  {
   "cell_type": "code",
   "execution_count": 25,
   "metadata": {},
   "outputs": [
    {
     "name": "stdout",
     "output_type": "stream",
     "text": [
      "[array([0.02635618, 0.0290846 , 0.02986837, 0.0258446 , 0.02416885,\n",
      "       0.02683823, 0.03835535, 0.04149695, 0.04228401, 0.04428112,\n",
      "       0.04738012, 0.04716697, 0.0479704 , 0.04697348, 0.0521024 ,\n",
      "       0.05692305, 0.05814296, 0.05687057, 0.05824462, 0.06269471,\n",
      "       0.060186  , 0.0525615 , 0.05435203, 0.05287304, 0.05951045,\n",
      "       0.05876605, 0.06112062, 0.06457706, 0.06200605, 0.0633801 ,\n",
      "       0.06269799, 0.05992365, 0.06460002, 0.06359982, 0.06039916,\n",
      "       0.06249467, 0.06157318, 0.06403269, 0.05992037, 0.05911038,\n",
      "       0.05184005, 0.05766417, 0.05790358, 0.06352111, 0.06184209,\n",
      "       0.05970722, 0.05982856, 0.05938257, 0.05956293, 0.0592645 ,\n",
      "       0.06333419, 0.06948953, 0.06788265, 0.06356047, 0.05080377,\n",
      "       0.04975437, 0.04938054, 0.04127724, 0.04098538, 0.04449101])]\n",
      "[0.044540205056192245]\n",
      "\n",
      "[array([0.02635618, 0.0290846 , 0.02986837, 0.0258446 , 0.02416885,\n",
      "       0.02683823, 0.03835535, 0.04149695, 0.04228401, 0.04428112,\n",
      "       0.04738012, 0.04716697, 0.0479704 , 0.04697348, 0.0521024 ,\n",
      "       0.05692305, 0.05814296, 0.05687057, 0.05824462, 0.06269471,\n",
      "       0.060186  , 0.0525615 , 0.05435203, 0.05287304, 0.05951045,\n",
      "       0.05876605, 0.06112062, 0.06457706, 0.06200605, 0.0633801 ,\n",
      "       0.06269799, 0.05992365, 0.06460002, 0.06359982, 0.06039916,\n",
      "       0.06249467, 0.06157318, 0.06403269, 0.05992037, 0.05911038,\n",
      "       0.05184005, 0.05766417, 0.05790358, 0.06352111, 0.06184209,\n",
      "       0.05970722, 0.05982856, 0.05938257, 0.05956293, 0.0592645 ,\n",
      "       0.06333419, 0.06948953, 0.06788265, 0.06356047, 0.05080377,\n",
      "       0.04975437, 0.04938054, 0.04127724, 0.04098538, 0.04449101]), array([0.0290846 , 0.02986837, 0.0258446 , 0.02416885, 0.02683823,\n",
      "       0.03835535, 0.04149695, 0.04228401, 0.04428112, 0.04738012,\n",
      "       0.04716697, 0.0479704 , 0.04697348, 0.0521024 , 0.05692305,\n",
      "       0.05814296, 0.05687057, 0.05824462, 0.06269471, 0.060186  ,\n",
      "       0.0525615 , 0.05435203, 0.05287304, 0.05951045, 0.05876605,\n",
      "       0.06112062, 0.06457706, 0.06200605, 0.0633801 , 0.06269799,\n",
      "       0.05992365, 0.06460002, 0.06359982, 0.06039916, 0.06249467,\n",
      "       0.06157318, 0.06403269, 0.05992037, 0.05911038, 0.05184005,\n",
      "       0.05766417, 0.05790358, 0.06352111, 0.06184209, 0.05970722,\n",
      "       0.05982856, 0.05938257, 0.05956293, 0.0592645 , 0.06333419,\n",
      "       0.06948953, 0.06788265, 0.06356047, 0.05080377, 0.04975437,\n",
      "       0.04938054, 0.04127724, 0.04098538, 0.04449101, 0.04454021])]\n",
      "[0.044540205056192245, 0.03270828589144811]\n",
      "\n"
     ]
    }
   ],
   "source": [
    "#Create the scaled training data set\n",
    "train_data = scaled_data[0:int(training_data_len), :]\n",
    "#Split the data into x_train and y_train data sets\n",
    "x_train = []\n",
    "y_train = []\n",
    "\n",
    "for i in range(60, len(train_data)):\n",
    "    x_train.append(train_data[i-60:i, 0])\n",
    "    y_train.append(train_data[i, 0])\n",
    "    if i<= 61:\n",
    "        print(x_train)\n",
    "        print(y_train)\n",
    "        print()\n"
   ]
  },
  {
   "cell_type": "code",
   "execution_count": 26,
   "metadata": {},
   "outputs": [],
   "source": [
    "# Convert the x_train and y_train to numpy arrays \n",
    "x_train, y_train = np.array(x_train), np.array(y_train)"
   ]
  },
  {
   "cell_type": "code",
   "execution_count": 27,
   "metadata": {},
   "outputs": [
    {
     "data": {
      "text/plain": [
       "(822, 60, 1)"
      ]
     },
     "execution_count": 27,
     "metadata": {},
     "output_type": "execute_result"
    }
   ],
   "source": [
    "#Reshape the data\n",
    "x_train = np.reshape(x_train, (x_train.shape[0], x_train.shape[1], 1))\n",
    "x_train.shape"
   ]
  },
  {
   "cell_type": "code",
   "execution_count": 28,
   "metadata": {},
   "outputs": [],
   "source": [
    "from keras.models import Sequential\n",
    "from keras.layers import Dense, LSTM\n",
    "\n",
    "#Build the LSTM model\n",
    "model = Sequential()\n",
    "model.add(LSTM(50, return_sequences=True, input_shape= (x_train.shape[1], 1)))\n",
    "model.add(LSTM(50, return_sequences= False))\n",
    "model.add(Dense(25))\n",
    "model.add(Dense(1))"
   ]
  },
  {
   "cell_type": "code",
   "execution_count": 29,
   "metadata": {},
   "outputs": [],
   "source": [
    "# Compile the model\n",
    "model.compile(optimizer='adam', loss='mean_squared_error')"
   ]
  },
  {
   "cell_type": "code",
   "execution_count": 30,
   "metadata": {},
   "outputs": [
    {
     "name": "stdout",
     "output_type": "stream",
     "text": [
      "Epoch 1/3\n",
      "822/822 [==============================] - 34s 41ms/step - loss: 0.0012\n",
      "Epoch 2/3\n",
      "822/822 [==============================] - 34s 41ms/step - loss: 4.4264e-04\n",
      "Epoch 3/3\n",
      "822/822 [==============================] - 33s 41ms/step - loss: 3.4306e-04\n"
     ]
    },
    {
     "data": {
      "text/plain": [
       "<tensorflow.python.keras.callbacks.History at 0x1c420d1bcf8>"
      ]
     },
     "execution_count": 30,
     "metadata": {},
     "output_type": "execute_result"
    }
   ],
   "source": [
    "#Train the model\n",
    "model.fit(x_train, y_train, batch_size=1, epochs=3)"
   ]
  },
  {
   "cell_type": "code",
   "execution_count": 31,
   "metadata": {},
   "outputs": [],
   "source": [
    "#Create the testing data set\n",
    "#Create a new array containing scaled values from index 1543 to 2002 \n",
    "test_data = scaled_data[training_data_len - 60: , :]\n",
    "#Create the data sets x_test and y_test\n",
    "x_test = []\n",
    "y_test = dataset[training_data_len:, :]\n",
    "for i in range(60, len(test_data)):\n",
    "    x_test.append(test_data[i-60:i, 0])"
   ]
  },
  {
   "cell_type": "code",
   "execution_count": 32,
   "metadata": {},
   "outputs": [],
   "source": [
    "# Convert the data to a numpy array\n",
    "x_test = np.array(x_test)"
   ]
  },
  {
   "cell_type": "code",
   "execution_count": 33,
   "metadata": {},
   "outputs": [
    {
     "data": {
      "text/plain": [
       "array([[[0.37973294],\n",
       "        [0.38462247],\n",
       "        [0.38975135],\n",
       "        ...,\n",
       "        [0.44691052],\n",
       "        [0.45286913],\n",
       "        [0.45345282]],\n",
       "\n",
       "       [[0.38462247],\n",
       "        [0.38975135],\n",
       "        [0.37903444],\n",
       "        ...,\n",
       "        [0.45286913],\n",
       "        [0.45345282],\n",
       "        [0.45242638]],\n",
       "\n",
       "       [[0.38975135],\n",
       "        [0.37903444],\n",
       "        [0.36460199],\n",
       "        ...,\n",
       "        [0.45345282],\n",
       "        [0.45242638],\n",
       "        [0.46082813]],\n",
       "\n",
       "       ...,\n",
       "\n",
       "       [[0.81324729],\n",
       "        [0.89026954],\n",
       "        [0.8710689 ],\n",
       "        ...,\n",
       "        [0.88989237],\n",
       "        [0.88820681],\n",
       "        [0.91972137]],\n",
       "\n",
       "       [[0.89026954],\n",
       "        [0.8710689 ],\n",
       "        [0.85848269],\n",
       "        ...,\n",
       "        [0.88820681],\n",
       "        [0.91972137],\n",
       "        [0.97097114]],\n",
       "\n",
       "       [[0.8710689 ],\n",
       "        [0.85848269],\n",
       "        [0.82130797],\n",
       "        ...,\n",
       "        [0.91972137],\n",
       "        [0.97097114],\n",
       "        [0.97120068]]])"
      ]
     },
     "execution_count": 33,
     "metadata": {},
     "output_type": "execute_result"
    }
   ],
   "source": [
    "# Reshape the data\n",
    "x_test = np.reshape(x_test, (x_test.shape[0], x_test.shape[1], 1 ))\n",
    "x_test"
   ]
  },
  {
   "cell_type": "code",
   "execution_count": 34,
   "metadata": {},
   "outputs": [],
   "source": [
    "# Get the models predicted price values \n",
    "predictions = model.predict(x_test)\n",
    "predictions = scaler.inverse_transform(predictions)"
   ]
  },
  {
   "cell_type": "code",
   "execution_count": 35,
   "metadata": {},
   "outputs": [
    {
     "data": {
      "text/plain": [
       "101.16016328645156"
      ]
     },
     "execution_count": 35,
     "metadata": {},
     "output_type": "execute_result"
    }
   ],
   "source": [
    "# Get the root mean squared error (RMSE)\n",
    "rmse = np.sqrt(np.mean(((predictions - y_test) ** 2)))\n",
    "rmse"
   ]
  },
  {
   "cell_type": "code",
   "execution_count": 36,
   "metadata": {},
   "outputs": [
    {
     "data": {
      "text/plain": [
       "2206.9443226392573"
      ]
     },
     "execution_count": 36,
     "metadata": {},
     "output_type": "execute_result"
    }
   ],
   "source": [
    "y_test.mean()"
   ]
  },
  {
   "cell_type": "code",
   "execution_count": 37,
   "metadata": {},
   "outputs": [
    {
     "data": {
      "text/plain": [
       "2171.1345"
      ]
     },
     "execution_count": 37,
     "metadata": {},
     "output_type": "execute_result"
    }
   ],
   "source": [
    "predictions.mean()"
   ]
  },
  {
   "cell_type": "code",
   "execution_count": 38,
   "metadata": {},
   "outputs": [
    {
     "data": {
      "image/png": "[encoded data removed]",
      "text/plain": [
       "<Figure size 1152x576 with 1 Axes>"
      ]
     },
     "metadata": {
      "needs_background": "light"
     },
     "output_type": "display_data"
    }
   ],
   "source": [
    "# Plot the data\n",
    "train = data[:training_data_len]\n",
    "valid = data[training_data_len:]\n",
    "valid['Predictions'] = predictions\n",
    "# Visualize the data\n",
    "plt.figure(figsize=(16,8))\n",
    "plt.title('Model')\n",
    "plt.xlabel('Date', fontsize=18)\n",
    "plt.ylabel('Close Price USD ($)', fontsize=18)\n",
    "plt.plot(train['Close'])\n",
    "plt.plot(valid[['Close', 'Predictions']])\n",
    "plt.legend(['Train', 'Val', 'Predictions'], loc='lower right')\n",
    "plt.show()"
   ]
  },
  {
   "cell_type": "code",
   "execution_count": 39,
   "metadata": {},
   "outputs": [
    {
     "data": {
      "text/html": [
       "<div>\n",
       "<style scoped>\n",
       "    .dataframe tbody tr th:only-of-type {\n",
       "        vertical-align: middle;\n",
       "    }\n",
       "\n",
       "    .dataframe tbody tr th {\n",
       "        vertical-align: top;\n",
       "    }\n",
       "\n",
       "    .dataframe thead th {\n",
       "        text-align: right;\n",
       "    }\n",
       "</style>\n",
       "<table border=\"1\" class=\"dataframe\">\n",
       "  <thead>\n",
       "    <tr style=\"text-align: right;\">\n",
       "      <th></th>\n",
       "      <th>Close</th>\n",
       "      <th>Predictions</th>\n",
       "    </tr>\n",
       "    <tr>\n",
       "      <th>Date</th>\n",
       "      <th></th>\n",
       "      <th></th>\n",
       "    </tr>\n",
       "  </thead>\n",
       "  <tbody>\n",
       "    <tr>\n",
       "      <th>2019-04-18</th>\n",
       "      <td>1861.689941</td>\n",
       "      <td>1862.827026</td>\n",
       "    </tr>\n",
       "    <tr>\n",
       "      <th>2019-04-22</th>\n",
       "      <td>1887.310059</td>\n",
       "      <td>1866.339722</td>\n",
       "    </tr>\n",
       "    <tr>\n",
       "      <th>2019-04-23</th>\n",
       "      <td>1923.770020</td>\n",
       "      <td>1872.888306</td>\n",
       "    </tr>\n",
       "    <tr>\n",
       "      <th>2019-04-24</th>\n",
       "      <td>1901.750000</td>\n",
       "      <td>1885.043823</td>\n",
       "    </tr>\n",
       "    <tr>\n",
       "      <th>2019-04-25</th>\n",
       "      <td>1902.250000</td>\n",
       "      <td>1893.846802</td>\n",
       "    </tr>\n",
       "    <tr>\n",
       "      <th>...</th>\n",
       "      <td>...</td>\n",
       "      <td>...</td>\n",
       "    </tr>\n",
       "    <tr>\n",
       "      <th>2020-10-08</th>\n",
       "      <td>3190.550049</td>\n",
       "      <td>3029.709229</td>\n",
       "    </tr>\n",
       "    <tr>\n",
       "      <th>2020-10-09</th>\n",
       "      <td>3286.649902</td>\n",
       "      <td>3036.042725</td>\n",
       "    </tr>\n",
       "    <tr>\n",
       "      <th>2020-10-12</th>\n",
       "      <td>3442.929932</td>\n",
       "      <td>3058.046387</td>\n",
       "    </tr>\n",
       "    <tr>\n",
       "      <th>2020-10-13</th>\n",
       "      <td>3443.629883</td>\n",
       "      <td>3106.565430</td>\n",
       "    </tr>\n",
       "    <tr>\n",
       "      <th>2020-10-14</th>\n",
       "      <td>3363.709961</td>\n",
       "      <td>3153.138916</td>\n",
       "    </tr>\n",
       "  </tbody>\n",
       "</table>\n",
       "<p>377 rows × 2 columns</p>\n",
       "</div>"
      ],
      "text/plain": [
       "                  Close  Predictions\n",
       "Date                                \n",
       "2019-04-18  1861.689941  1862.827026\n",
       "2019-04-22  1887.310059  1866.339722\n",
       "2019-04-23  1923.770020  1872.888306\n",
       "2019-04-24  1901.750000  1885.043823\n",
       "2019-04-25  1902.250000  1893.846802\n",
       "...                 ...          ...\n",
       "2020-10-08  3190.550049  3029.709229\n",
       "2020-10-09  3286.649902  3036.042725\n",
       "2020-10-12  3442.929932  3058.046387\n",
       "2020-10-13  3443.629883  3106.565430\n",
       "2020-10-14  3363.709961  3153.138916\n",
       "\n",
       "[377 rows x 2 columns]"
      ]
     },
     "execution_count": 39,
     "metadata": {},
     "output_type": "execute_result"
    }
   ],
   "source": [
    "#Show the valid and predicted prices\n",
    "valid\n"
   ]
  },
  {
   "cell_type": "code",
   "execution_count": null,
   "metadata": {},
   "outputs": [],
   "source": []
  }
 ],
 "metadata": {
  "kernelspec": {
   "display_name": "Python 3",
   "language": "python",
   "name": "python3"
  },
  "language_info": {
   "codemirror_mode": {
    "name": "ipython",
    "version": 3
   },
   "file_extension": ".py",
   "mimetype": "text/x-python",
   "name": "python",
   "nbconvert_exporter": "python",
   "pygments_lexer": "ipython3",
   "version": "3.6.5"
  }
 },
 "nbformat": 4,
 "nbformat_minor": 4
}
